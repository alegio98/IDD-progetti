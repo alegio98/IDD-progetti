{
 "cells": [
  {
   "cell_type": "code",
   "execution_count": 3,
   "id": "19935b64",
   "metadata": {},
   "outputs": [],
   "source": [
    "import recordlinkage\n",
    "import pandas as pd"
   ]
  },
  {
   "cell_type": "code",
   "execution_count": 63,
   "id": "b0dcbcab",
   "metadata": {},
   "outputs": [
    {
     "data": {
      "text/plain": [
       "Name            object\n",
       "Rank            object\n",
       "Sector          object\n",
       "CEO             object\n",
       "Head Country    object\n",
       "website         object\n",
       "dtype: object"
      ]
     },
     "execution_count": 63,
     "metadata": {},
     "output_type": "execute_result"
    }
   ],
   "source": [
    "datiAziende = pd.read_csv(\"/home/alessandro/Scrivania/Homework4/aziendeAlignment.csv\")\n",
    "datiAziende = datiAziende.drop('Unnamed: 0', 1)\n",
    "datiAziende.dtypes"
   ]
  },
  {
   "cell_type": "code",
   "execution_count": 76,
   "id": "b77737b6",
   "metadata": {},
   "outputs": [
    {
     "data": {
      "text/plain": [
       "Name             string\n",
       "Rank            float64\n",
       "Sector           string\n",
       "CEO              string\n",
       "Head Country     string\n",
       "website          string\n",
       "dtype: object"
      ]
     },
     "execution_count": 76,
     "metadata": {},
     "output_type": "execute_result"
    }
   ],
   "source": [
    "dfinal = datiAziende.replace({\"NAN\": None})\n",
    "dfinal['Rank'] = dfinal['Rank'].str.replace(',','.')\n",
    "dfinal[\"Sector\"] = dfinal[\"Sector\"].astype('string')\n",
    "dfinal[\"Rank\"] = dfinal[\"Rank\"].astype(float)\n",
    "dfinal[\"CEO\"] = dfinal[\"CEO\"].astype('string')\n",
    "dfinal[\"Head Country\"] = dfinal[\"Head Country\"].astype('string')\n",
    "dfinal[\"website\"] = dfinal[\"website\"].astype('string')\n",
    "dfinal['Name']= dfinal['Name'].astype('string')\n",
    "dfinal.dtypes"
   ]
  },
  {
   "cell_type": "code",
   "execution_count": 78,
   "id": "85f0f2b9",
   "metadata": {},
   "outputs": [],
   "source": [
    "train = dfinal[:4875]\n",
    "test = dfinal[4875:]"
   ]
  },
  {
   "cell_type": "code",
   "execution_count": 79,
   "id": "ba516029",
   "metadata": {},
   "outputs": [],
   "source": [
    "df_a = pandas.DataFrame(train)\n",
    "df_b = pandas.DataFrame(test)"
   ]
  },
  {
   "cell_type": "code",
   "execution_count": 80,
   "id": "4a1fb457",
   "metadata": {},
   "outputs": [],
   "source": [
    "indexer = recordlinkage.Index()\n",
    "indexer.block('Name')\n",
    "candidate_links = indexer.index(df_a, df_b)"
   ]
  },
  {
   "cell_type": "code",
   "execution_count": 86,
   "id": "998a0bbc",
   "metadata": {},
   "outputs": [],
   "source": [
    "compare = recordlinkage.Compare()\n",
    "\n",
    "compare.string('Name', 'Name', method='jarowinkler', threshold=0.85, label='Name')\n",
    "compare.string('Head Country', 'Head Country', label='Head Country')\n",
    "compare.string('website', 'website', label=\"website\")\n",
    "compare.string('Sector', 'Sector' ,label=\"Sector\")\n",
    "compare.string('CEO', 'CEO', method='jarowinkler', label=\"CEO\", threshold=0.90)\n",
    "compare.exact('Rank','Rank',label='Rank')\n",
    "\n",
    "compare_vectors = compare.compute(candidate_links, df_a, df_b)"
   ]
  },
  {
   "cell_type": "code",
   "execution_count": 87,
   "id": "d948878d",
   "metadata": {},
   "outputs": [
    {
     "data": {
      "text/html": [
       "<div>\n",
       "<style scoped>\n",
       "    .dataframe tbody tr th:only-of-type {\n",
       "        vertical-align: middle;\n",
       "    }\n",
       "\n",
       "    .dataframe tbody tr th {\n",
       "        vertical-align: top;\n",
       "    }\n",
       "\n",
       "    .dataframe thead th {\n",
       "        text-align: right;\n",
       "    }\n",
       "</style>\n",
       "<table border=\"1\" class=\"dataframe\">\n",
       "  <thead>\n",
       "    <tr style=\"text-align: right;\">\n",
       "      <th></th>\n",
       "      <th></th>\n",
       "      <th>Name</th>\n",
       "      <th>Head Country</th>\n",
       "      <th>website</th>\n",
       "      <th>Sector</th>\n",
       "      <th>CEO</th>\n",
       "      <th>Rank</th>\n",
       "    </tr>\n",
       "  </thead>\n",
       "  <tbody>\n",
       "    <tr>\n",
       "      <th>4635</th>\n",
       "      <th>6132</th>\n",
       "      <td>1.0</td>\n",
       "      <td>0.0</td>\n",
       "      <td>1.0</td>\n",
       "      <td>1.0</td>\n",
       "      <td>0.0</td>\n",
       "      <td>0</td>\n",
       "    </tr>\n",
       "  </tbody>\n",
       "</table>\n",
       "</div>"
      ],
      "text/plain": [
       "           Name  Head Country  website  Sector  CEO  Rank\n",
       "4635 6132   1.0           0.0      1.0     1.0  0.0     0"
      ]
     },
     "execution_count": 87,
     "metadata": {},
     "output_type": "execute_result"
    }
   ],
   "source": [
    "features = compare.compute(candidate_links, df_a, df_b)\n",
    "\n",
    "features"
   ]
  },
  {
   "cell_type": "code",
   "execution_count": 83,
   "id": "88dfff03",
   "metadata": {},
   "outputs": [
    {
     "ename": "NameError",
     "evalue": "name 'YOUR_GOLDEN_DATA' is not defined",
     "output_type": "error",
     "traceback": [
      "\u001b[0;31m---------------------------------------------------------------------------\u001b[0m",
      "\u001b[0;31mNameError\u001b[0m                                 Traceback (most recent call last)",
      "\u001b[0;32m<ipython-input-83-7aa80d6fd38c>\u001b[0m in \u001b[0;36m<module>\u001b[0;34m\u001b[0m\n\u001b[0;32m----> 1\u001b[0;31m \u001b[0mtrue_linkage\u001b[0m \u001b[0;34m=\u001b[0m \u001b[0mpandas\u001b[0m\u001b[0;34m.\u001b[0m\u001b[0mSeries\u001b[0m\u001b[0;34m(\u001b[0m\u001b[0mYOUR_GOLDEN_DATA\u001b[0m\u001b[0;34m,\u001b[0m \u001b[0mindex\u001b[0m\u001b[0;34m=\u001b[0m\u001b[0mpandas\u001b[0m\u001b[0;34m.\u001b[0m\u001b[0mMultiIndex\u001b[0m\u001b[0;34m(\u001b[0m\u001b[0mYOUR_MULTI_INDEX\u001b[0m\u001b[0;34m)\u001b[0m\u001b[0;34m)\u001b[0m\u001b[0;34m\u001b[0m\u001b[0;34m\u001b[0m\u001b[0m\n\u001b[0m\u001b[1;32m      2\u001b[0m \u001b[0;34m\u001b[0m\u001b[0m\n\u001b[1;32m      3\u001b[0m \u001b[0mlogrg\u001b[0m \u001b[0;34m=\u001b[0m \u001b[0mrecordlinkage\u001b[0m\u001b[0;34m.\u001b[0m\u001b[0mLogisticRegressionClassifier\u001b[0m\u001b[0;34m(\u001b[0m\u001b[0;34m)\u001b[0m\u001b[0;34m\u001b[0m\u001b[0;34m\u001b[0m\u001b[0m\n\u001b[1;32m      4\u001b[0m \u001b[0mlogrg\u001b[0m\u001b[0;34m.\u001b[0m\u001b[0mfit\u001b[0m\u001b[0;34m(\u001b[0m\u001b[0mcompare_vectors\u001b[0m\u001b[0;34m[\u001b[0m\u001b[0mtrue_linkage\u001b[0m\u001b[0;34m.\u001b[0m\u001b[0mindex\u001b[0m\u001b[0;34m]\u001b[0m\u001b[0;34m,\u001b[0m \u001b[0mtrue_linkage\u001b[0m\u001b[0;34m)\u001b[0m\u001b[0;34m\u001b[0m\u001b[0;34m\u001b[0m\u001b[0m\n\u001b[1;32m      5\u001b[0m \u001b[0;34m\u001b[0m\u001b[0m\n",
      "\u001b[0;31mNameError\u001b[0m: name 'YOUR_GOLDEN_DATA' is not defined"
     ]
    }
   ],
   "source": [
    "true_linkage = pandas.Series(YOUR_GOLDEN_DATA, index=pandas.MultiIndex(YOUR_MULTI_INDEX))\n",
    "\n",
    "logrg = recordlinkage.LogisticRegressionClassifier()\n",
    "logrg.fit(compare_vectors[true_linkage.index], true_linkage)\n",
    "\n",
    "logrg.predict(compare_vectors)"
   ]
  },
  {
   "cell_type": "code",
   "execution_count": null,
   "id": "71b00f38",
   "metadata": {},
   "outputs": [],
   "source": []
  }
 ],
 "metadata": {
  "kernelspec": {
   "display_name": "Python 3",
   "language": "python",
   "name": "python3"
  },
  "language_info": {
   "codemirror_mode": {
    "name": "ipython",
    "version": 3
   },
   "file_extension": ".py",
   "mimetype": "text/x-python",
   "name": "python",
   "nbconvert_exporter": "python",
   "pygments_lexer": "ipython3",
   "version": "3.8.10"
  }
 },
 "nbformat": 4,
 "nbformat_minor": 5
}
